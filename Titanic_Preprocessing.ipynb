{
 "cells": [
  {
   "cell_type": "code",
   "execution_count": null,
   "id": "54c198d8",
   "metadata": {},
   "outputs": [],
   "source": [
    "# Titanic Dataset Preprocessing - Jupyter Notebook"
   ]
  },
  {
   "cell_type": "code",
   "execution_count": null,
   "id": "c8dcc809",
   "metadata": {},
   "outputs": [],
   "source": [
    "# Cell 1: Importing necessary libraries\n",
    "import pandas as pd\n",
    "import numpy as np\n",
    "import matplotlib.pyplot as plt\n",
    "import seaborn as sns\n",
    "from sklearn.preprocessing import StandardScaler"
   ]
  },
  {
   "cell_type": "code",
   "execution_count": null,
   "id": "f73d98e1",
   "metadata": {},
   "outputs": [],
   "source": [
    "# Cell 2: Load the dataset\n",
    "file_path = '/content/Titanic-Dataset.csv'  # Change the path as needed"
   ]
  },
  {
   "cell_type": "code",
   "execution_count": null,
   "id": "2704a669",
   "metadata": {},
   "outputs": [],
   "source": [
    "try:\n",
    "    df_encoded = pd.read_csv(file_path)\n",
    "    print(\"Dataset loaded successfully!\")\n",
    "except FileNotFoundError:\n",
    "    print(f\"Error: File not found at {file_path}\")"
   ]
  },
  {
   "cell_type": "code",
   "execution_count": null,
   "id": "a5755870",
   "metadata": {},
   "outputs": [],
   "source": [
    "# Cell 3: Display initial data info\n",
    "df_encoded.info()\n",
    "df_encoded.head()"
   ]
  },
  {
   "cell_type": "code",
   "execution_count": null,
   "id": "90366c69",
   "metadata": {},
   "outputs": [],
   "source": [
    "# Cell 4: Define numeric features to be scaled\n",
    "numeric_features = ['PassengerId', 'Pclass', 'Age', 'SibSp', 'Parch', 'Fare']"
   ]
  },
  {
   "cell_type": "code",
   "execution_count": null,
   "id": "079f67da",
   "metadata": {},
   "outputs": [],
   "source": [
    "# Cell 5: Standardize numeric features using StandardScaler\n",
    "scaler = StandardScaler()\n",
    "df_encoded[numeric_features] = scaler.fit_transform(df_encoded[numeric_features])"
   ]
  },
  {
   "cell_type": "code",
   "execution_count": null,
   "id": "a5a88754",
   "metadata": {},
   "outputs": [],
   "source": [
    "# Cell 6: Display the transformed data\n",
    "print(\"Transformed Data:\")\n",
    "print(df_encoded.head())"
   ]
  },
  {
   "cell_type": "code",
   "execution_count": null,
   "id": "6d69df02",
   "metadata": {},
   "outputs": [],
   "source": [
    "# Cell 7: Visualize boxplots to identify outliers\n",
    "for col in numeric_features:\n",
    "    plt.figure(figsize=(6, 4))\n",
    "    sns.boxplot(x=df_encoded[col])\n",
    "    plt.title(f'Boxplot of {col}')\n",
    "    plt.show()"
   ]
  },
  {
   "cell_type": "code",
   "execution_count": null,
   "id": "4ef7d306",
   "metadata": {},
   "outputs": [],
   "source": [
    "# Cell 8: Function to remove outliers using IQR method\n",
    "def remove_outliers_iqr(df, columns):\n",
    "    for col in columns:\n",
    "        Q1 = df[col].quantile(0.25)\n",
    "        Q3 = df[col].quantile(0.75)\n",
    "        IQR = Q3 - Q1\n",
    "        lower_bound = Q1 - 1.5 * IQR\n",
    "        upper_bound = Q3 + 1.5 * IQR\n",
    "        df = df[(df[col] >= lower_bound) & (df[col] <= upper_bound)]\n",
    "    return df"
   ]
  },
  {
   "cell_type": "code",
   "execution_count": null,
   "id": "ffce006d",
   "metadata": {},
   "outputs": [],
   "source": [
    "# Cell 9: Remove outliers\n",
    "df_cleaned = remove_outliers_iqr(df_encoded, numeric_features)"
   ]
  },
  {
   "cell_type": "code",
   "execution_count": null,
   "id": "dd16100a",
   "metadata": {},
   "outputs": [],
   "source": [
    "# Cell 10: Check the shape of cleaned dataset\n",
    "print(\"Shape after outlier removal:\", df_cleaned.shape)"
   ]
  },
  {
   "cell_type": "code",
   "execution_count": null,
   "id": "4c9a089b",
   "metadata": {},
   "outputs": [],
   "source": [
    "# Cell 11: Display cleaned data preview\n",
    "df_cleaned.head()"
   ]
  }
 ],
 "metadata": {},
 "nbformat": 4,
 "nbformat_minor": 5
}
