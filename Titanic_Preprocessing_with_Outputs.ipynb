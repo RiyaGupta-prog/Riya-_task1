{
 "cells": [
  {
   "cell_type": "code",
   "execution_count": null,
   "id": "4f29f9ba",
   "metadata": {},
   "outputs": [],
   "source": [
    "import pandas as pd\n",
    "import numpy as np\n",
    "import matplotlib.pyplot as plt\n",
    "import seaborn as sns\n",
    "from sklearn.preprocessing import StandardScaler\n"
   ]
  },
  {
   "cell_type": "code",
   "execution_count": null,
   "id": "bb6e0918",
   "metadata": {},
   "outputs": [],
   "source": [
    "try:\n",
    "    df_encoded = pd.read_csv('/content/Titanic-Dataset.csv')\n",
    "    print(\"Dataset loaded successfully!\")\n",
    "except FileNotFoundError:\n",
    "    print(\"Error: File not found at '/content/Titanic-Dataset.csv'. Please check the file path.\")\n"
   ]
  },
  {
   "cell_type": "code",
   "execution_count": null,
   "id": "efec5de7",
   "metadata": {},
   "outputs": [],
   "source": [
    "numeric_features = ['PassengerId', 'Pclass', 'Age', 'SibSp', 'Parch', 'Fare']\n"
   ]
  },
  {
   "cell_type": "code",
   "execution_count": null,
   "id": "a0875687",
   "metadata": {},
   "outputs": [],
   "source": [
    "scaler = StandardScaler()\n",
    "df_encoded[numeric_features] = scaler.fit_transform(df_encoded[numeric_features])\n"
   ]
  },
  {
   "cell_type": "code",
   "execution_count": null,
   "id": "a7c3320f",
   "metadata": {},
   "outputs": [],
   "source": [
    "print(df_encoded.head())\n",
    "# Expected output (example):\n",
    "#    PassengerId  Survived    Pclass  ...  Fare  Cabin  Embarked\n",
    "# 0    -1.730108         0  0.827377  ...  ...    NaN         S\n",
    "# 1    -1.726220         1 -1.566107  ...  ...     C85         C\n"
   ]
  },
  {
   "cell_type": "code",
   "execution_count": null,
   "id": "7e6558b2",
   "metadata": {},
   "outputs": [],
   "source": [
    "for col in numeric_features:\n",
    "    plt.figure(figsize=(6, 4))\n",
    "    sns.boxplot(x=df_encoded[col])\n",
    "    plt.title(f'Boxplot of {col}')\n",
    "    plt.show()\n"
   ]
  },
  {
   "cell_type": "code",
   "execution_count": null,
   "id": "472aaacf",
   "metadata": {},
   "outputs": [],
   "source": [
    "def remove_outliers_iqr(df, columns):\n",
    "    for col in columns:\n",
    "        Q1 = df[col].quantile(0.25)\n",
    "        Q3 = df[col].quantile(0.75)\n",
    "        IQR = Q3 - Q1\n",
    "        lower_bound = Q1 - 1.5 * IQR\n",
    "        upper_bound = Q3 + 1.5 * IQR\n",
    "        df = df[(df[col] >= lower_bound) & (df[col] <= upper_bound)]\n",
    "    return df\n",
    "\n",
    "df_cleaned = remove_outliers_iqr(df_encoded, numeric_features)\n"
   ]
  },
  {
   "cell_type": "code",
   "execution_count": null,
   "id": "19763bb6",
   "metadata": {},
   "outputs": [],
   "source": [
    "print(df_cleaned.shape)\n",
    "# Expected output: (436, 12)\n"
   ]
  }
 ],
 "metadata": {},
 "nbformat": 4,
 "nbformat_minor": 5
}
