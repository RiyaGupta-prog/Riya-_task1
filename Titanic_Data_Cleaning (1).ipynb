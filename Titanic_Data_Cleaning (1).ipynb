{
 "cells": [
  {
   "cell_type": "markdown",
   "id": "8179c38d",
   "metadata": {},
   "source": [
    "# Titanic Dataset - Data Cleaning & Preprocessing\n",
    "\n",
    "## Objective:\n",
    "This notebook demonstrates the data cleaning and preprocessing of the Titanic dataset.\n",
    "The goal is to prepare the data for Machine Learning by handling missing values, encoding\n",
    "categorical features, scaling numerical data, and removing outliers.\n",
    "\n",
    "**Tools Used:**\n",
    "- Python\n",
    "- Pandas\n",
    "- NumPy\n",
    "- Matplotlib\n",
    "- Seaborn\n",
    "- Scikit-learn\n"
   ]
  },
  {
   "cell_type": "code",
   "execution_count": null,
   "id": "73f82d26",
   "metadata": {},
   "outputs": [],
   "source": [
    "import pandas as pd\n",
    "import numpy as np\n",
    "import seaborn as sns\n",
    "import matplotlib.pyplot as plt\n",
    "from sklearn.preprocessing import LabelEncoder, StandardScaler\n",
    "\n",
    "sns.set(style=\"whitegrid\")\n",
    "%matplotlib inline"
   ]
  },
  {
   "cell_type": "code",
   "execution_count": null,
   "id": "d2775539",
   "metadata": {},
   "outputs": [],
   "source": [
    "# Load the Titanic dataset\n",
    "df = pd.read_csv(\"Titanic-Dataset.csv\")\n",
    "df.head()"
   ]
  },
  {
   "cell_type": "code",
   "execution_count": null,
   "id": "2f42bb26",
   "metadata": {},
   "outputs": [],
   "source": [
    "# Basic info\n",
    "df.info()\n",
    "\n",
    "# Statistical summary\n",
    "df.describe(include='all')\n",
    "\n",
    "# Missing values\n",
    "df.isnull().sum()"
   ]
  },
  {
   "cell_type": "code",
   "execution_count": null,
   "id": "978bf820",
   "metadata": {},
   "outputs": [],
   "source": [
    "# Fill 'Age' with median\n",
    "df['Age'].fillna(df['Age'].median(), inplace=True)\n",
    "\n",
    "# Fill 'Embarked' with mode\n",
    "df['Embarked'].fillna(df['Embarked'].mode()[0], inplace=True)\n",
    "\n",
    "# Drop 'Cabin' due to high missing rate\n",
    "df.drop(columns='Cabin', inplace=True)\n",
    "\n",
    "# Verify missing values\n",
    "df.isnull().sum()"
   ]
  },
  {
   "cell_type": "code",
   "execution_count": null,
   "id": "4639dcec",
   "metadata": {},
   "outputs": [],
   "source": [
    "le = LabelEncoder()\n",
    "df['Sex'] = le.fit_transform(df['Sex'])         # Male=1, Female=0\n",
    "df['Embarked'] = le.fit_transform(df['Embarked'])"
   ]
  },
  {
   "cell_type": "code",
   "execution_count": null,
   "id": "c8b9d008",
   "metadata": {},
   "outputs": [],
   "source": [
    "scaler = StandardScaler()\n",
    "df[['Age', 'Fare']] = scaler.fit_transform(df[['Age', 'Fare']])"
   ]
  },
  {
   "cell_type": "code",
   "execution_count": null,
   "id": "303cc4b5",
   "metadata": {},
   "outputs": [],
   "source": [
    "# Boxplots for visualizing outliers\n",
    "for col in ['Age', 'Fare']:\n",
    "    sns.boxplot(data=df, x=col)\n",
    "    plt.title(f\"Boxplot for {col}\")\n",
    "    plt.show()\n",
    "\n",
    "# Remove outliers using IQR method\n",
    "def remove_outliers(data, column):\n",
    "    Q1 = data[column].quantile(0.25)\n",
    "    Q3 = data[column].quantile(0.75)\n",
    "    IQR = Q3 - Q1\n",
    "    return data[(data[column] >= Q1 - 1.5 * IQR) & (data[column] <= Q3 + 1.5 * IQR)]\n",
    "\n",
    "for col in ['Age', 'Fare']:\n",
    "    df = remove_outliers(df, col)\n",
    "\n",
    "print(\"Final dataset shape:\", df.shape)"
   ]
  },
  {
   "cell_type": "code",
   "execution_count": null,
   "id": "1e703853",
   "metadata": {},
   "outputs": [],
   "source": [
    "df.to_csv(\"Cleaned_Titanic_Dataset.csv\", index=False)\n",
    "print(\"Cleaned dataset saved as 'Cleaned_Titanic_Dataset.csv'\")"
   ]
  },
  {
   "cell_type": "markdown",
   "id": "c7e3e73b",
   "metadata": {},
   "source": [
    "## Summary:\n",
    "\n",
    "- Handled missing values in 'Age' and 'Embarked'\n",
    "- Dropped 'Cabin' due to excessive missing data\n",
    "- Encoded 'Sex' and 'Embarked' columns\n",
    "- Standardized 'Age' and 'Fare'\n",
    "- Detected and removed outliers using IQR method\n",
    "- Final cleaned dataset saved for model training"
   ]
  }
 ],
 "metadata": {},
 "nbformat": 4,
 "nbformat_minor": 5
}
